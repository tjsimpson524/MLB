{
 "cells": [
  {
   "cell_type": "code",
   "execution_count": 1,
   "id": "6c2056cd",
   "metadata": {},
   "outputs": [
    {
     "name": "stderr",
     "output_type": "stream",
     "text": [
      "C:\\Users\\tjsim\\Anaconda\\lib\\site-packages\\numpy\\_distributor_init.py:30: UserWarning: loaded more than 1 DLL from .libs:\n",
      "C:\\Users\\tjsim\\Anaconda\\lib\\site-packages\\numpy\\.libs\\libopenblas.XWYDX2IKJW2NMTWSFYNGFUWKQU3LYTCZ.gfortran-win_amd64.dll\n",
      "C:\\Users\\tjsim\\Anaconda\\lib\\site-packages\\numpy\\.libs\\libopenblas64__v0.3.21-gcc_10_3_0.dll\n",
      "  warnings.warn(\"loaded more than 1 DLL from .libs:\"\n"
     ]
    }
   ],
   "source": [
    "import pandas as pd\n",
    "import numpy as np\n",
    "from pybaseball import playerid_lookup\n",
    "from pybaseball import  statcast_pitcher #statcast_pitcher('2023-03-30','2023-04-09', 656629).fillna('pending')\n",
    "from pybaseball import pitching_stats_range  #pitching_stats_range(\"2017-05-01\", \"2017-05-28\")\n",
    "from pybaseball import get_splits # get_splits('oviedjo01', pitching_splits=True)\n",
    "from pybaseball import statcast_batter #  statcast_batter('2008-04-01', '2017-07-15', player_id = 120074)\n",
    "from pybaseball import batting_stats_range\n",
    "\n",
    "from pykalman import KalmanFilter\n",
    "from sklearn.tree import DecisionTreeRegressor\n",
    "import pandas as pd\n",
    "import numpy as np\n",
    "from sklearn.model_selection import train_test_split\n",
    "from xgboost import XGBRegressor\n",
    "from sklearn.metrics import mean_squared_error\n",
    "from xgboost import XGBClassifier\n",
    "from sklearn.metrics import accuracy_score\n",
    "from sklearn.linear_model import LogisticRegression\n",
    "from sklearn.linear_model import LinearRegression"
   ]
  },
  {
   "cell_type": "code",
   "execution_count": 2,
   "id": "584e089b",
   "metadata": {},
   "outputs": [],
   "source": [
    "TBR_PLYR = [\n",
    "   'Randy Arozarena',\n",
    " 'Jose Caballero',\n",
    " 'Yandy Diaz',\n",
    " 'Brandon Lowe',\n",
    " 'Curtis Mead',\n",
    " 'Richie Palacios',\n",
    " 'Isaac Paredes',\n",
    " 'Rene Pinto',\n",
    " 'Harold Ramirez',\n",
    " 'Ben Rortvedt',\n",
    " 'Amed Rosario',\n",
    " 'Austin Shenton',\n",
    " 'Jose Siri'\n",
    "    \n",
    "]\n",
    "\n",
    "TBR_ID = [\n",
    "    668227,\n",
    " 676609,\n",
    " 650490,\n",
    " 664040,\n",
    " 678554,\n",
    " 680700,\n",
    " 670623,\n",
    " 650907,\n",
    " 623912,\n",
    " 666163,\n",
    " 642708,\n",
    " 668853,\n",
    " 642350\n",
    "]\n",
    "\n",
    "# Create a DataFrame from the lists\n",
    "\n",
    "TBR = pd.DataFrame({'Name': TBR_PLYR, 'mlbID': TBR_ID})\n",
    "\n",
    "# TBR\n",
    "\n",
    "\n",
    "BOS_PLYR = [\n",
    "    'Wilyer Abreu',\n",
    " 'Christian Arroyo',\n",
    " 'Triston Casas',\n",
    " 'Yu Chang',\n",
    " 'Kutter Crawford',\n",
    " 'Bobby Dalbec',\n",
    " 'Rafael Devers',\n",
    " 'Jarren Duran',\n",
    " 'Caleb Hamilton',\n",
    " 'David Hamilton',\n",
    " 'Reese McGuire',\n",
    " 'Ceddanne Rafaela',\n",
    " 'Rob Refsnyder',\n",
    " 'Pablo Reyes',\n",
    " 'Trevor Story',\n",
    " 'Enmanuel Valdez',\n",
    " 'Connor Wong',\n",
    " 'Masataka Yoshida']\n",
    "\n",
    "\n",
    "BOS_ID = [\n",
    "677800,\n",
    " 624414,\n",
    " 671213,\n",
    " 644374,\n",
    " 676710,\n",
    " 666915,\n",
    " 646240,\n",
    " 680776,\n",
    " 643348,\n",
    " 666152,\n",
    " 624512,\n",
    " 678882,\n",
    " 608701,\n",
    " 622569,\n",
    " 596115,\n",
    " 665839,\n",
    " 657136,\n",
    " 807799]\n",
    "\n",
    "BOS = pd.DataFrame({'Name': BOS_PLYR, 'mlbID': BOS_ID})\n",
    "\n",
    "# BOS\n",
    "\n",
    "OAK_PLYR = [\n",
    "    'Jes\\\\xc3\\\\xbas Aguilar',\n",
    " 'Nick Allen',\n",
    " 'JJ Bleday',\n",
    " 'Seth Brown',\n",
    " 'Lawrence Butler',\n",
    " 'Conner Capel',\n",
    " 'Aledmys D\\\\xc3\\\\xadaz',\n",
    " 'Jordan Diaz',\n",
    " 'Zack Gelof',\n",
    " 'Darell Hernaiz',\n",
    " 'Shea Langeliers',\n",
    " 'Kyle McCann',\n",
    " 'Ryan Noda',\n",
    " 'Carlos P\\\\xc3\\\\xa9rez',\n",
    " 'Manny Pi\\\\xc3\\\\xb1a',\n",
    " 'Brent Rooker',\n",
    " 'Esteury Ruiz',\n",
    " 'Kevin Smith',\n",
    " 'Tyler Soderstrom',\n",
    " 'Cody Thomas',\n",
    "'Abraham Toro']\n",
    "\n",
    "OAK_ID =[\n",
    "    542583,\n",
    " 669397,\n",
    " 668709,\n",
    " 664913,\n",
    " 671732,\n",
    " 668843,\n",
    " 649557,\n",
    " 672478,\n",
    " 680869,\n",
    " 687231,\n",
    " 669127,\n",
    " 668832,\n",
    " 676116,\n",
    " 542208,\n",
    " 444489,\n",
    " 667670,\n",
    " 665923,\n",
    " 675656,\n",
    " 691016,\n",
    " 642137,\n",
    "647351]\n",
    "\n",
    "OAK = pd.DataFrame({'Name': OAK_PLYR, 'mlbID': OAK_ID})\n",
    "\n",
    "# OAK\n",
    "\n",
    "MIN_PLYR =[\n",
    " 'Byron Buxton',\n",
    " 'Willi Castro',\n",
    " 'Carlos Correa',\n",
    " 'Kyle Farmer',\n",
    " 'Ryan Jeffers',\n",
    " 'Edouard Julien',\n",
    " 'Max Kepler',\n",
    " 'Alex Kirilloff',\n",
    " 'Austin Martin',\n",
    " 'Christian Vázquez',\n",
    " 'Matt Wallner',\n",
    "'Carlos Santana',\n",
    "'Manuel Margot']\n",
    "\n",
    "\n",
    "MIN_ID = [\n",
    "621439,\n",
    " 650489,\n",
    " 621043,\n",
    " 571657,\n",
    " 680777,\n",
    " 666397,\n",
    " 596146,\n",
    " 666135,\n",
    " 668885,\n",
    " 543877,\n",
    " 670242,\n",
    "467793,\n",
    "622534]\n",
    "\n",
    "MIN = pd.DataFrame({'Name': MIN_PLYR, 'mlbID': MIN_ID})\n",
    "\n",
    "# MIN\n",
    "\n",
    "TEX_PLYR = [\n",
    "    'Evan Carter','Ezequiel Duran',\n",
    " 'Adolis Garcia','Jonah Heim',\n",
    " 'Travis Jankowski','Josh Jung',\n",
    "'Wyatt Langford','Corey Seager',\n",
    " 'Marcus Semien','Leody Taveras',\n",
    " 'Jared Walsh'\n",
    "]\n",
    "\n",
    "TEX_ID = [\n",
    "    694497,677649,666969,641680,\n",
    " 608671,673962,694671,608369,\n",
    " 543760,665750,665120\n",
    "]\n",
    "\n",
    "# Create a DataFrame from the lists\n",
    "\n",
    "TEX = pd.DataFrame({'Name': TEX_PLYR, 'mlbID': TEX_ID})\n",
    "\n",
    "# TEX\n",
    "\n",
    "\n",
    "# NATIONAL LEAGUE #\n",
    "\n",
    "PHI_PLYR = ['Alec Bohm',\n",
    "'Whit Merrifield',\n",
    " 'Nick Castellanos',\n",
    " 'Kody Clemens',\n",
    " 'Drew Ellis',\n",
    " 'Dalton Guthrie',\n",
    " 'Darick Hall',\n",
    " 'Bryce Harper',\n",
    " 'Josh Harrison',\n",
    " 'Brandon Marsh',\n",
    " 'Cristian Pache',\n",
    " 'J.T. Realmuto',\n",
    " 'Johan Rojas',\n",
    " 'Kyle Schwarber',\n",
    " 'Edmundo Sosa',\n",
    " 'Bryson Stott',\n",
    " 'Garrett Stubbs',\n",
    " 'Trea Turner',\n",
    " 'Weston Wilson']\n",
    "\n",
    "PHI_ID = [664761,\n",
    " 592206,\n",
    " 665019,\n",
    " 656403,\n",
    " 656495,\n",
    " 669742,\n",
    " 547180,\n",
    " 543281,\n",
    " 669016,\n",
    " 665506,\n",
    " 592663,\n",
    " 679032,\n",
    " 656941,\n",
    " 624641,\n",
    " 681082,\n",
    " 596117,\n",
    " 607208,\n",
    " 642215,\n",
    " 593160]\n",
    "\n",
    "PHI = pd.DataFrame({'Name': PHI_PLYR, 'mlbID': PHI_ID})\n",
    "\n",
    "# PHI\n",
    "\n",
    "MIL_PLYR = [\n",
    "    'Willy Adames',\n",
    " 'Jake Bauers',\n",
    " 'Jackson Chourio',\n",
    " 'William Contreras',\n",
    " 'Oliver Dunn',\n",
    " 'Sal Frelick',\n",
    " 'Rhys Hoskins',\n",
    " 'Andruw Monasterio',\n",
    " 'Joey Ortiz',\n",
    " 'Blake Perkins',\n",
    " 'Gary Sanchez',\n",
    " 'Brice Turang',\n",
    " 'Christian Yelich'\n",
    "]\n",
    "\n",
    "MIL_ID = [\n",
    " 642715,\n",
    " 641343,\n",
    " 694192,\n",
    " 661388,\n",
    " 686554,\n",
    " 686217,\n",
    " 656555,\n",
    " 655316,\n",
    " 687401,\n",
    " 663368,\n",
    " 596142,\n",
    " 668930,\n",
    " 592885\n",
    "]\n",
    "\n",
    "MIL = pd.DataFrame({'Name': MIL_PLYR, 'mlbID': MIL_ID})\n",
    "\n",
    "# MIL"
   ]
  },
  {
   "cell_type": "markdown",
   "id": "24a7fe6f",
   "metadata": {},
   "source": [
    "ROSTER ORGANIZER"
   ]
  },
  {
   "cell_type": "code",
   "execution_count": null,
   "id": "5335f9cf",
   "metadata": {},
   "outputs": [],
   "source": [
    "bp = batting_stats_range(\"2024-03-28\", \"2024-04-01\")\n",
    "\n",
    "bp = bp[bp['Tm'] == 'Milwaukee']\n",
    "\n",
    "\n",
    "# bp = bp[bp['Name'].isin([ 'Brandon Lowe','Ben Rortvedt','Randy Arozarena',\n",
    "#     'Amed Rosario', 'Isaac Paredes','Yandy Díaz',\n",
    "#     'Austin Shenton','Curtis Mead','René Pinto',\n",
    "#     'Harold Ramírez','Jose Siri','Richie Palacios',\n",
    "#     'José Caballero'\n",
    "    \n",
    "                         \n",
    "#bp['Name'].tolist()\n",
    "bp['mlbID'].tolist()"
   ]
  },
  {
   "cell_type": "markdown",
   "id": "d28bba51",
   "metadata": {},
   "source": [
    "AWAY/HOME LINEUP BUILDER"
   ]
  },
  {
   "cell_type": "code",
   "execution_count": 3,
   "id": "748ab4ce",
   "metadata": {},
   "outputs": [],
   "source": [
    "# Away Team\n",
    "\n",
    "away = MIN\n",
    "\n",
    "# Home Team\n",
    "\n",
    "home = MIL"
   ]
  },
  {
   "cell_type": "code",
   "execution_count": null,
   "id": "31e5d08b",
   "metadata": {},
   "outputs": [],
   "source": [
    "exclude = []\n",
    "\n",
    "away = away[~away.index.isin(exclude)]\n",
    "\n",
    "away"
   ]
  },
  {
   "cell_type": "code",
   "execution_count": null,
   "id": "fac2c8af",
   "metadata": {},
   "outputs": [],
   "source": [
    "exclude = []\n",
    "\n",
    "home = home[~home.index.isin(exclude)]\n",
    "\n",
    "home"
   ]
  },
  {
   "cell_type": "code",
   "execution_count": null,
   "id": "44dc9544",
   "metadata": {},
   "outputs": [],
   "source": [
    "away = MIN['mlbID'].tolist()\n",
    "\n",
    "home = MIL['mlbID'].tolist()"
   ]
  },
  {
   "cell_type": "code",
   "execution_count": null,
   "id": "b644be41",
   "metadata": {},
   "outputs": [],
   "source": [
    "player_ids = away\n",
    "\n",
    "dfs = []\n",
    "\n",
    "# Iterate over each player ID\n",
    "for player_id in player_ids:\n",
    "    # Retrieve statcast data for the current player\n",
    "    player_data = statcast_batter('2023-04-01', '2024-04-01', player_id=player_id)\n",
    "    # Append the data to the list\n",
    "    dfs.append(player_data)\n",
    "\n",
    "# Concatenate all DataFrames in the list into a single DataFrame\n",
    "away_lineup = pd.concat(dfs, ignore_index=True)\n",
    "\n",
    "away_lineup.fillna(0)"
   ]
  },
  {
   "cell_type": "code",
   "execution_count": null,
   "id": "a01fe3e7",
   "metadata": {},
   "outputs": [],
   "source": [
    "player_ids = home\n",
    "\n",
    "dfs = []\n",
    "\n",
    "# Iterate over each player ID\n",
    "for player_id in player_ids:\n",
    "    # Retrieve statcast data for the current player\n",
    "    player_data = statcast_batter('2023-04-01', '2024-04-01', player_id=player_id)\n",
    "    # Append the data to the list\n",
    "    dfs.append(player_data)\n",
    "\n",
    "# Concatenate all DataFrames in the list into a single DataFrame\n",
    "home_lineup = pd.concat(dfs, ignore_index=True)\n",
    "\n",
    "home_lineup.fillna(0)"
   ]
  },
  {
   "cell_type": "code",
   "execution_count": null,
   "id": "5cd5ecda",
   "metadata": {},
   "outputs": [],
   "source": [
    "away_lineup.sort_values(by = ['game_date', 'inning','pitch_type'], ascending = True)"
   ]
  },
  {
   "cell_type": "code",
   "execution_count": null,
   "id": "aa079e27",
   "metadata": {},
   "outputs": [],
   "source": [
    "away_lineup['player_name'].unique()\n",
    "away_lineup"
   ]
  },
  {
   "cell_type": "code",
   "execution_count": null,
   "id": "75513f60",
   "metadata": {},
   "outputs": [],
   "source": [
    "home_lineup.sort_values(by = ['game_date', 'inning','pitch_type'], ascending = True)"
   ]
  },
  {
   "cell_type": "code",
   "execution_count": null,
   "id": "b5f329d7",
   "metadata": {},
   "outputs": [],
   "source": [
    "home_lineup['player_name'].unique()\n",
    "home_lineup"
   ]
  },
  {
   "cell_type": "code",
   "execution_count": null,
   "id": "b8e3e098",
   "metadata": {},
   "outputs": [],
   "source": [
    "away_lineup['k'] = home_lineup['events'].apply(lambda x: 1 if x == 'strikeout' else 0)"
   ]
  },
  {
   "cell_type": "code",
   "execution_count": null,
   "id": "b5807f22",
   "metadata": {},
   "outputs": [],
   "source": [
    "home_lineup['k'] = home_lineup['events'].apply(lambda x: 1 if x == 'strikeout' else 0)"
   ]
  },
  {
   "cell_type": "code",
   "execution_count": null,
   "id": "a9fc0021",
   "metadata": {},
   "outputs": [],
   "source": [
    "away_lineup.fillna(0)"
   ]
  },
  {
   "cell_type": "code",
   "execution_count": null,
   "id": "cc4c1a06",
   "metadata": {},
   "outputs": [],
   "source": [
    "home_lineup.fillna(0)"
   ]
  },
  {
   "cell_type": "code",
   "execution_count": null,
   "id": "e4932a5b",
   "metadata": {},
   "outputs": [],
   "source": [
    "away_df = away_lineup[(away_lineup['game_date'] >= '2023-04-01') & (away_lineup['game_date'] <= '2024-04-01')]"
   ]
  },
  {
   "cell_type": "code",
   "execution_count": null,
   "id": "2e24ca73",
   "metadata": {},
   "outputs": [],
   "source": [
    "home_df = home_batter[(away_lineup['game_date'] >= '2023-04-01') & (away_lineup['game_date'] <= '2024-04-01')]"
   ]
  },
  {
   "cell_type": "code",
   "execution_count": null,
   "id": "9f88b026",
   "metadata": {},
   "outputs": [],
   "source": [
    "away_df = away_df.fillna(0)"
   ]
  },
  {
   "cell_type": "code",
   "execution_count": null,
   "id": "1138e358",
   "metadata": {},
   "outputs": [],
   "source": [
    "home_df = home_df.fillna(0)"
   ]
  },
  {
   "cell_type": "markdown",
   "id": "0e3c0ae2",
   "metadata": {},
   "source": [
    "PITCHERS"
   ]
  },
  {
   "cell_type": "code",
   "execution_count": null,
   "id": "98e87cc5",
   "metadata": {},
   "outputs": [],
   "source": [
    "# statcast_player_id lookup\n",
    "\n",
    "playerid_lookup('Varland', 'Louie')"
   ]
  },
  {
   "cell_type": "code",
   "execution_count": null,
   "id": "0434917d",
   "metadata": {},
   "outputs": [],
   "source": [
    "away_ace = statcast_pitcher('2023-03-01', '2023-11-30', 686973)"
   ]
  },
  {
   "cell_type": "code",
   "execution_count": null,
   "id": "6e4be03d",
   "metadata": {},
   "outputs": [],
   "source": [
    "home_ace = statcast_pitcher('2023-03-01', '2023-11-30', 596001)"
   ]
  },
  {
   "cell_type": "code",
   "execution_count": null,
   "id": "c23664a6",
   "metadata": {},
   "outputs": [],
   "source": [
    "away_ace.fillna(0)"
   ]
  },
  {
   "cell_type": "code",
   "execution_count": null,
   "id": "1f44852e",
   "metadata": {},
   "outputs": [],
   "source": [
    "home_ace.fillna(0)"
   ]
  },
  {
   "cell_type": "code",
   "execution_count": null,
   "id": "5ac43e3c",
   "metadata": {},
   "outputs": [],
   "source": [
    "away_ace['k'] = away_ace['events'].apply(lambda x: 1 if x == 'strikeout' else 0)"
   ]
  },
  {
   "cell_type": "code",
   "execution_count": null,
   "id": "199a3043",
   "metadata": {},
   "outputs": [],
   "source": [
    "away_ace['k'] = away_ace['events'].apply(lambda x: 1 if x == 'strikeout' else 0)"
   ]
  },
  {
   "cell_type": "code",
   "execution_count": null,
   "id": "37bd6fae",
   "metadata": {},
   "outputs": [],
   "source": [
    "away_ace = away_ace.fillna(0)"
   ]
  },
  {
   "cell_type": "code",
   "execution_count": null,
   "id": "2d444d19",
   "metadata": {},
   "outputs": [],
   "source": [
    "home_ace = home_ace.fillna(0)"
   ]
  },
  {
   "cell_type": "code",
   "execution_count": null,
   "id": "f7069045",
   "metadata": {},
   "outputs": [],
   "source": [
    "away_ace.sort_values(by = 'game_date')"
   ]
  },
  {
   "cell_type": "code",
   "execution_count": null,
   "id": "0d6d06c0",
   "metadata": {},
   "outputs": [],
   "source": [
    "home_ace.sort_values(by = 'game_date')"
   ]
  },
  {
   "cell_type": "code",
   "execution_count": null,
   "id": "7fcac49c",
   "metadata": {},
   "outputs": [],
   "source": [
    "away_ace_df = away_ace[(away_ace['game_date'] >= '2023-04-01') & (away_ace['game_date'] <= '2024-04-01')].sort_values(by = 'game_date')"
   ]
  },
  {
   "cell_type": "code",
   "execution_count": null,
   "id": "5779d61d",
   "metadata": {},
   "outputs": [],
   "source": [
    "home_ace_df = home_ace[(home_ace['game_date'] >= '2023-04-01') & (home_ace['game_date'] <= '2024-04-01')].sort_values(by = 'game_date')"
   ]
  },
  {
   "cell_type": "code",
   "execution_count": null,
   "id": "e1e1f9b1",
   "metadata": {},
   "outputs": [],
   "source": [
    "away_ace_df"
   ]
  },
  {
   "cell_type": "code",
   "execution_count": null,
   "id": "795dcb24",
   "metadata": {},
   "outputs": [],
   "source": [
    "home_ace_df"
   ]
  },
  {
   "cell_type": "code",
   "execution_count": null,
   "id": "f39f1f50",
   "metadata": {},
   "outputs": [],
   "source": [
    "away_ace_df[['release_spin_rate','release_pos_x','release_pos_z','effective_speed']].median(0)"
   ]
  },
  {
   "cell_type": "code",
   "execution_count": null,
   "id": "74c430e0",
   "metadata": {},
   "outputs": [],
   "source": [
    "home_ace_df[['release_spin_rate','release_pos_x','release_pos_z','effective_speed']].median(0)"
   ]
  },
  {
   "cell_type": "markdown",
   "id": "5726aee5",
   "metadata": {},
   "source": [
    "MODEL K"
   ]
  },
  {
   "cell_type": "code",
   "execution_count": null,
   "id": "a80cf7ad",
   "metadata": {},
   "outputs": [],
   "source": [
    "\n",
    "# Get a list of unique player names\n",
    "unique_players = away_df['player_name'].unique().tolist()\n",
    "\n",
    "# Loop through each player to make predictions\n",
    "for player_name in unique_players:\n",
    "    # Filter the data for the specific player\n",
    "    player_data = away_df[away_df['player_name'] == player_name]\n",
    "\n",
    "    # Assuming you have new data for the upcoming game\n",
    "    # For example, let's say you have new data for an upcoming game for the same player\n",
    "    new_data = pd.DataFrame({\n",
    "    'release_spin_rate': [2375],  # Sample values for the features\n",
    "    'release_pos_x': [-1.94],\n",
    "    'release_pos_z': [5.82],\n",
    "    'effective_speed': [85.00]\n",
    "    })\n",
    "    \n",
    "    \n",
    "\n",
    "    # Assuming you have stats of the pitcher they are facing, you can insert them into the new_data DataFrame\n",
    "\n",
    "    # Splitting the data into features (X) and target variable (y)\n",
    "    X = player_data[['release_spin_rate', 'release_pos_x', 'release_pos_z', 'effective_speed']]\n",
    "    y = player_data['k']\n",
    "\n",
    "    # Train-test split\n",
    "    X_train, X_test, y_train, y_test = train_test_split(X, y, test_size=0.2, random_state=42)\n",
    "\n",
    "    # Initialize the Decision Tree Regressor\n",
    "    regressor = DecisionTreeRegressor()\n",
    "\n",
    "    # Train the model on the training data\n",
    "    regressor.fit(X_train, y_train)\n",
    "\n",
    "    # Make predictions for the new data\n",
    "    new_pred = regressor.predict(new_data)\n",
    "\n",
    "    # Print the predicted strikeouts for the player\n",
    "    print(f\"Predicted strikeouts for {player_name}: {new_pred}\")"
   ]
  },
  {
   "cell_type": "code",
   "execution_count": null,
   "id": "5e2b77af",
   "metadata": {},
   "outputs": [],
   "source": [
    "# Get a list of unique player names\n",
    "unique_players = home_df['player_name'].unique().tolist()\n",
    "\n",
    "# Loop through each player to make predictions\n",
    "for player_name in unique_players:\n",
    "    # Filter the data for the specific player\n",
    "    player_data = home_df[home_df['player_name'] == player_name]\n",
    "\n",
    "    # Assuming you have new data for the upcoming game\n",
    "    # For example, let's say you have new data for an upcoming game for the same player\n",
    "    new_data = pd.DataFrame({\n",
    "    'release_spin_rate': [2375],  # Sample values for the features\n",
    "    'release_pos_x': [-1.94],\n",
    "    'release_pos_z': [5.82],\n",
    "    'effective_speed': [85.00]\n",
    "    })\n",
    "    \n",
    "    \n",
    "\n",
    "    # Assuming you have stats of the pitcher they are facing, you can insert them into the new_data DataFrame\n",
    "\n",
    "    # Splitting the data into features (X) and target variable (y)\n",
    "    X = player_data[['release_spin_rate', 'release_pos_x', 'release_pos_z', 'effective_speed']]\n",
    "    y = player_data['k']\n",
    "\n",
    "    # Train-test split\n",
    "    X_train, X_test, y_train, y_test = train_test_split(X, y, test_size=0.2, random_state=42)\n",
    "\n",
    "    # Initialize the Decision Tree Regressor\n",
    "    regressor = DecisionTreeRegressor()\n",
    "\n",
    "    # Train the model on the training data\n",
    "    regressor.fit(X_train, y_train)\n",
    "\n",
    "    # Make predictions for the new data\n",
    "    new_pred = regressor.predict(new_data)\n",
    "\n",
    "    # Print the predicted strikeouts for the player\n",
    "    print(f\"Predicted strikeouts for {player_name}: {new_pred}\")"
   ]
  }
 ],
 "metadata": {
  "kernelspec": {
   "display_name": "Python 3 (ipykernel)",
   "language": "python",
   "name": "python3"
  },
  "language_info": {
   "codemirror_mode": {
    "name": "ipython",
    "version": 3
   },
   "file_extension": ".py",
   "mimetype": "text/x-python",
   "name": "python",
   "nbconvert_exporter": "python",
   "pygments_lexer": "ipython3",
   "version": "3.9.12"
  }
 },
 "nbformat": 4,
 "nbformat_minor": 5
}
